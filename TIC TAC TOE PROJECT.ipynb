{
 "cells": [
  {
   "cell_type": "code",
   "execution_count": 1,
   "id": "3dc6fce0",
   "metadata": {},
   "outputs": [],
   "source": [
    "from IPython.display import clear_output\n",
    "\n",
    "def display_board(board):\n",
    "    clear_output()\n",
    "    print(board[1]+'|'+board[2]+'|'+board[3])\n",
    "    print(board[4]+'|'+board[5]+'|'+board[6]) \n",
    "    print(board[7]+'|'+board[8]+'|'+board[9])\n",
    "\n",
    "    "
   ]
  },
  {
   "cell_type": "code",
   "execution_count": 2,
   "id": "428e8ab2",
   "metadata": {},
   "outputs": [
    {
     "name": "stdout",
     "output_type": "stream",
     "text": [
      "X|O|X\n",
      "O|X|O\n",
      "X|X|X\n"
     ]
    }
   ],
   "source": [
    "test_board = ['#','X','O','X','O','X','O','X','X','X']\n",
    "display_board(test_board)"
   ]
  },
  {
   "cell_type": "code",
   "execution_count": 3,
   "id": "2796ed4b",
   "metadata": {},
   "outputs": [],
   "source": [
    "def player_input():\n",
    "    marker = ''\n",
    "    \n",
    "    #keep asking player 1 to choose X or O\n",
    "    while marker != 'X' and marker != 'O':\n",
    "        marker = input('Player 1, choose X or O: ').upper()\n",
    "    #Assign player 2, the opposite marker\n",
    "    player1 = marker\n",
    "    \n",
    "    if player1 == 'X':\n",
    "        player2= 'O'\n",
    "    else:\n",
    "        player2 = 'X'\n",
    "    \n",
    "    return (player1,player2)"
   ]
  },
  {
   "cell_type": "code",
   "execution_count": 4,
   "id": "bd95714f",
   "metadata": {},
   "outputs": [],
   "source": [
    "#player1_marker, player2_marker = player_input()"
   ]
  },
  {
   "cell_type": "code",
   "execution_count": 5,
   "id": "4513e06e",
   "metadata": {},
   "outputs": [],
   "source": [
    "def place_marker(board,marker,position):\n",
    "    \n",
    "    board[position] = marker\n",
    "    \n",
    "    #return board"
   ]
  },
  {
   "cell_type": "code",
   "execution_count": 6,
   "id": "3b621c81",
   "metadata": {},
   "outputs": [
    {
     "name": "stdout",
     "output_type": "stream",
     "text": [
      "X|O|X\n",
      "O|X|O\n",
      "X|$|X\n"
     ]
    }
   ],
   "source": [
    "place_marker(test_board,'$',8)\n",
    "display_board(test_board)"
   ]
  },
  {
   "cell_type": "code",
   "execution_count": 7,
   "id": "b0e74126",
   "metadata": {},
   "outputs": [],
   "source": [
    "def win_check(board,mark):\n",
    "    #vertical\n",
    "    for space in [1,2,3]:\n",
    "        if board[space] == mark and board[space+3] == mark and board[space+6] == mark:\n",
    "            return True\n",
    "    \n",
    "    #horizontal\n",
    "    for space in [1,4,7]:\n",
    "        if board[space] == mark and board[space+1] == mark and board[space+2] == mark:\n",
    "            return True\n",
    "        \n",
    "    #diagonal\n",
    "    if board[1] == mark and board[5] == mark and board[9] == mark:\n",
    "        return True\n",
    "    if board[3] == mark and board[5] == mark and board[7] == mark:\n",
    "        return True"
   ]
  },
  {
   "cell_type": "code",
   "execution_count": 8,
   "id": "7c8e55d8",
   "metadata": {},
   "outputs": [
    {
     "data": {
      "text/plain": [
       "True"
      ]
     },
     "execution_count": 8,
     "metadata": {},
     "output_type": "execute_result"
    }
   ],
   "source": [
    "win_check(test_board,'X')"
   ]
  },
  {
   "cell_type": "code",
   "execution_count": 17,
   "id": "616cd185",
   "metadata": {},
   "outputs": [],
   "source": [
    "import random\n",
    "\n",
    "def choose_first():\n",
    "    player_num = random.randint(0,1)\n",
    "    if player_num == 0:\n",
    "        return 'Player 1 goes first'\n",
    "    else:\n",
    "        return 'Player 2 goes first'"
   ]
  },
  {
   "cell_type": "code",
   "execution_count": 16,
   "id": "17e97add",
   "metadata": {},
   "outputs": [
    {
     "data": {
      "text/plain": [
       "'Player 1'"
      ]
     },
     "execution_count": 16,
     "metadata": {},
     "output_type": "execute_result"
    }
   ],
   "source": [
    "choose_first()"
   ]
  },
  {
   "cell_type": "code",
   "execution_count": 10,
   "id": "f53e2aad",
   "metadata": {},
   "outputs": [],
   "source": [
    "def space_check(board,position):\n",
    "    if board[position] not in ['X','O']:\n",
    "        return True\n",
    "    else:\n",
    "        return False\n",
    "    "
   ]
  },
  {
   "cell_type": "code",
   "execution_count": 11,
   "id": "1dbe2ed4",
   "metadata": {},
   "outputs": [],
   "source": [
    "def full_board_check(board):\n",
    "    for x in range(1,10):\n",
    "        if space_check(board,x):\n",
    "            return False\n",
    "    return True #board is full"
   ]
  },
  {
   "cell_type": "code",
   "execution_count": 12,
   "id": "5958aee3",
   "metadata": {},
   "outputs": [
    {
     "data": {
      "text/plain": [
       "False"
      ]
     },
     "execution_count": 12,
     "metadata": {},
     "output_type": "execute_result"
    }
   ],
   "source": [
    "full_board_check(test_board)"
   ]
  },
  {
   "cell_type": "code",
   "execution_count": 13,
   "id": "4014b115",
   "metadata": {},
   "outputs": [],
   "source": [
    "def player_choice(board):\n",
    "    position = 0\n",
    "    is_space = False\n",
    "    while ((not is_space) or (position not in [1,2,3,4,5,6,7,8,9])):\n",
    "   # while position not in [1,2,3,4,5,6,7,8,9] and is_space == False:\n",
    "        position = int(input('Please enter a number for position (1-9):' ))\n",
    "        \n",
    "        \n",
    "        if position not in [1,2,3,4,5,6,7,8,9]:\n",
    "            print(\"Sorry, invalid choice\")\n",
    "        else:\n",
    "            if space_check(board,position):\n",
    "                is_space = True\n",
    "                return position\n",
    "            else:\n",
    "                print(\"Sorry, space already used\")\n",
    "    "
   ]
  },
  {
   "cell_type": "code",
   "execution_count": 14,
   "id": "53a67280",
   "metadata": {},
   "outputs": [],
   "source": [
    "def replay():\n",
    "    choice = 'wrong'\n",
    "    while choice not in ['Y', 'N']:\n",
    "        choice = input(\"Do you want to play again? (Y OR N): \")\n",
    "        \n",
    "        if choice not in ['Y','N']:\n",
    "            print(\"Sorry, I dont understand, please choose Y or N \")\n",
    "    \n",
    "    if choice  == \"Y\":\n",
    "        return True\n",
    "    else:\n",
    "        return False"
   ]
  },
  {
   "cell_type": "code",
   "execution_count": null,
   "id": "8dfad306",
   "metadata": {},
   "outputs": [
    {
     "name": "stdout",
     "output_type": "stream",
     "text": [
      " | | \n",
      " | | \n",
      " | | \n"
     ]
    }
   ],
   "source": [
    "\n",
    "# ALL TOGETHER\n",
    "\n",
    "print('Welcome to Tic Tac Toe!')\n",
    "\n",
    "while True:\n",
    "    board = ['#',' ',' ',' ',' ',' ',' ',' ',' ',' ']\n",
    "    display_board(board)\n",
    "    \n",
    "    choose_first()\n",
    "    \n",
    "    player1_marker, player2_marker = player_input()\n",
    "    \n",
    "    game_on = True\n",
    "    \n",
    "    while game_on:\n",
    "        #player 1\n",
    "        position = player_choice(board)\n",
    "        \n",
    "        place_marker(board, player1_marker, position)\n",
    "        \n",
    "        display_board(board)\n",
    "        \n",
    "        if win_check(board, player1_marker):\n",
    "            print(\"Player 1 Wins!\")\n",
    "            game_on = False\n",
    "            continue\n",
    "        \n",
    "        #Check for full board\n",
    "        if full_board_check(board):\n",
    "            print(\"Draw!\")\n",
    "            game_on = False\n",
    "            continue\n",
    "        \n",
    "        #player 2\n",
    "        position = player_choice(board)\n",
    "        \n",
    "        place_marker(board, player2_marker, position)\n",
    "        \n",
    "        display_board(board)\n",
    "        \n",
    "        if win_check(board, player2_marker):\n",
    "            print(\"Player 2 Wins!\")\n",
    "            game_on = False\n",
    "            #continue\n",
    "            \n",
    "    if not replay():\n",
    "        break  "
   ]
  }
 ],
 "metadata": {
  "kernelspec": {
   "display_name": "Python 3 (ipykernel)",
   "language": "python",
   "name": "python3"
  },
  "language_info": {
   "codemirror_mode": {
    "name": "ipython",
    "version": 3
   },
   "file_extension": ".py",
   "mimetype": "text/x-python",
   "name": "python",
   "nbconvert_exporter": "python",
   "pygments_lexer": "ipython3",
   "version": "3.9.12"
  }
 },
 "nbformat": 4,
 "nbformat_minor": 5
}
